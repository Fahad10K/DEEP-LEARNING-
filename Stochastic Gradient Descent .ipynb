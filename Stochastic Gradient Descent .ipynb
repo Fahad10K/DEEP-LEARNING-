{
 "cells": [
  {
   "cell_type": "code",
   "execution_count": 1,
   "id": "e4e950cc",
   "metadata": {},
   "outputs": [],
   "source": [
    "import numpy as np\n",
    "from sklearn.datasets import load_diabetes\n",
    "from sklearn.model_selection import train_test_split\n",
    "from sklearn.preprocessing import StandardScaler\n",
    "from sklearn.preprocessing import OneHotEncoder\n"
   ]
  },
  {
   "cell_type": "code",
   "execution_count": 2,
   "id": "afd85c21",
   "metadata": {},
   "outputs": [],
   "source": [
    "diab = load_diabetes()"
   ]
  },
  {
   "cell_type": "code",
   "execution_count": 6,
   "id": "2e84da43",
   "metadata": {},
   "outputs": [],
   "source": [
    "X,y = diab.data, diab.target"
   ]
  },
  {
   "cell_type": "code",
   "execution_count": 7,
   "id": "a44c3c33",
   "metadata": {},
   "outputs": [],
   "source": [
    "scaler =StandardScaler()\n",
    "x_scaled = scaler.fit_transform(X)"
   ]
  },
  {
   "cell_type": "code",
   "execution_count": 8,
   "id": "b6d6edd7",
   "metadata": {},
   "outputs": [],
   "source": [
    "def computer_gradient(x_batch,y_batch,theta):\n",
    "    n_samples= x_batch.shape[0]\n",
    "    predictions = x_batch.dot(theta)\n",
    "    error = predictions-y_batch\n",
    "    gradient = x_batch.T.dot(error) / n_samples\n",
    "    return gradient"
   ]
  },
  {
   "cell_type": "code",
   "execution_count": 9,
   "id": "e889ef5c",
   "metadata": {
    "scrolled": true
   },
   "outputs": [],
   "source": [
    "def stochastic_gradient_descent(X, y, learning_rate=0.01, n_epochs=100, batch_size=32):\n",
    "    n_samples, n_features = X.shape\n",
    "    n_batches =n_samples // batch_size\n",
    "    theta = np.random.randn(n_features)\n",
    "    for epoch in range(n_epochs):\n",
    "        indices = np.arange(n_samples)\n",
    "        np.random.shuffle(indices)\n",
    "        X_shuffled = X[indices]\n",
    "        y_shuffled = y[indices]\n",
    "    for batch_idx in range(n_batches):\n",
    "        start_idx = batch_idx * batch_size\n",
    "        end_idx = (batch_idx + 1) * batch_size\n",
    "        X_batch = X_shuffled[start_idx:end_idx]\n",
    "        y_batch = y_shuffled[start_idx:end_idx]\n",
    "        gradient = computer_gradient(X_batch, y_batch, theta)\n",
    "        theta -= learning_rate * gradient\n",
    "        mse = np.mean((X.dot(theta) - y) ** 2)\n",
    "        print(f\"Epoch {epoch+1}/{n_epochs}, Mean Squared Error: {mse:.4f}\")\n",
    "    return theta\n",
    "\n",
    "\n",
    "\n",
    "\n",
    "\n"
   ]
  },
  {
   "cell_type": "code",
   "execution_count": 14,
   "id": "b9b00f45",
   "metadata": {},
   "outputs": [
    {
     "name": "stdout",
     "output_type": "stream",
     "text": [
      "Epoch 100/100, Mean Squared Error: 29026.5150\n",
      "Epoch 100/100, Mean Squared Error: 29032.4231\n",
      "Epoch 100/100, Mean Squared Error: 28816.3869\n",
      "Epoch 100/100, Mean Squared Error: 28663.0952\n",
      "Epoch 100/100, Mean Squared Error: 28562.0048\n",
      "Epoch 100/100, Mean Squared Error: 28515.6842\n",
      "Epoch 100/100, Mean Squared Error: 28299.1232\n",
      "Epoch 100/100, Mean Squared Error: 28059.8863\n",
      "Epoch 100/100, Mean Squared Error: 27954.3422\n",
      "Epoch 100/100, Mean Squared Error: 27847.5409\n",
      "Epoch 100/100, Mean Squared Error: 27686.7905\n",
      "Epoch 100/100, Mean Squared Error: 27617.6400\n",
      "Epoch 100/100, Mean Squared Error: 27598.4481\n",
      "Final theta: 10 [ 2.06012219  1.11730848  4.85448641  3.07714123  1.38694273 -0.57790797\n",
      " -3.89274301  4.81847272  3.79574632  3.2150274 ]\n"
     ]
    }
   ],
   "source": [
    "# Example usage\n",
    "theta = stochastic_gradient_descent(x_scaled, y)\n",
    "print(\"Final theta:\",theta.shape[0], theta)\n",
    "\n"
   ]
  },
  {
   "cell_type": "code",
   "execution_count": null,
   "id": "0c4da180",
   "metadata": {},
   "outputs": [],
   "source": []
  }
 ],
 "metadata": {
  "kernelspec": {
   "display_name": "Python 3 (ipykernel)",
   "language": "python",
   "name": "python3"
  },
  "language_info": {
   "codemirror_mode": {
    "name": "ipython",
    "version": 3
   },
   "file_extension": ".py",
   "mimetype": "text/x-python",
   "name": "python",
   "nbconvert_exporter": "python",
   "pygments_lexer": "ipython3",
   "version": "3.9.7"
  }
 },
 "nbformat": 4,
 "nbformat_minor": 5
}
