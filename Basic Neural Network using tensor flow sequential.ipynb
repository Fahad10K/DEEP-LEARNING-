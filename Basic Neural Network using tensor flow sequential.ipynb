{
 "cells": [
  {
   "cell_type": "code",
   "execution_count": 2,
   "id": "a756045a",
   "metadata": {},
   "outputs": [],
   "source": [
    "import numpy as np\n",
    "import tensorflow as tf\n",
    "import matplotlib.pyplot as plt\n",
    "from tensorflow.keras.models import Sequential\n",
    "from tensorflow.keras.layers import Dense,Flatten\n",
    "from sklearn.datasets import load_iris\n",
    "from sklearn.model_selection import train_test_split\n",
    "from sklearn.preprocessing import StandardScaler\n",
    "import seaborn as sns\n",
    "\n"
   ]
  },
  {
   "cell_type": "code",
   "execution_count": 8,
   "id": "9ea927e8",
   "metadata": {},
   "outputs": [],
   "source": [
    "data= load_iris()\n",
    "#data=sns.load_dataset('tips')"
   ]
  },
  {
   "cell_type": "code",
   "execution_count": 1,
   "id": "ce088196",
   "metadata": {
    "scrolled": true
   },
   "outputs": [],
   "source": [
    "#data.describe()"
   ]
  },
  {
   "cell_type": "code",
   "execution_count": 81,
   "id": "c79b8f38",
   "metadata": {},
   "outputs": [],
   "source": [
    "#data.drop(['day','time'],axis=1,inplace=True)"
   ]
  },
  {
   "cell_type": "code",
   "execution_count": 18,
   "id": "4a1c55e8",
   "metadata": {},
   "outputs": [],
   "source": [
    "#data.head()"
   ]
  },
  {
   "cell_type": "code",
   "execution_count": 83,
   "id": "0ce5951f",
   "metadata": {},
   "outputs": [],
   "source": [
    "#data.drop(['sex'],axis=1,inplace=True)"
   ]
  },
  {
   "cell_type": "code",
   "execution_count": 17,
   "id": "5d3dbeb0",
   "metadata": {},
   "outputs": [],
   "source": [
    "#data.head()"
   ]
  },
  {
   "cell_type": "code",
   "execution_count": 85,
   "id": "f0e90d15",
   "metadata": {},
   "outputs": [],
   "source": [
    "#y=data['smoker']"
   ]
  },
  {
   "cell_type": "code",
   "execution_count": 86,
   "id": "379b2514",
   "metadata": {},
   "outputs": [],
   "source": [
    "#y=y.map({'No':0,\"Yes\":1})"
   ]
  },
  {
   "cell_type": "code",
   "execution_count": 16,
   "id": "2c6a1709",
   "metadata": {},
   "outputs": [],
   "source": [
    "#y"
   ]
  },
  {
   "cell_type": "code",
   "execution_count": 88,
   "id": "5e11933b",
   "metadata": {},
   "outputs": [],
   "source": [
    "#X=data.drop(['smoker'],axis=1)"
   ]
  },
  {
   "cell_type": "code",
   "execution_count": 15,
   "id": "2c2ba490",
   "metadata": {},
   "outputs": [],
   "source": [
    "#X"
   ]
  },
  {
   "cell_type": "code",
   "execution_count": 11,
   "id": "0c31dcc1",
   "metadata": {},
   "outputs": [],
   "source": [
    "X,y=data.data, data.target\n",
    "\n",
    "\n",
    "# we do the following so that we only take two classe from the iris data set that is class 0(SETOS) and 1 (binary)\n",
    "X=X[y!=2]\n",
    "\n",
    "y=y[y!=2]\n",
    "\n"
   ]
  },
  {
   "cell_type": "code",
   "execution_count": 13,
   "id": "40dd22c1",
   "metadata": {},
   "outputs": [
    {
     "data": {
      "text/plain": [
       "array([[5.1, 3.5, 1.4, 0.2],\n",
       "       [4.9, 3. , 1.4, 0.2],\n",
       "       [4.7, 3.2, 1.3, 0.2],\n",
       "       [4.6, 3.1, 1.5, 0.2],\n",
       "       [5. , 3.6, 1.4, 0.2],\n",
       "       [5.4, 3.9, 1.7, 0.4],\n",
       "       [4.6, 3.4, 1.4, 0.3],\n",
       "       [5. , 3.4, 1.5, 0.2],\n",
       "       [4.4, 2.9, 1.4, 0.2],\n",
       "       [4.9, 3.1, 1.5, 0.1],\n",
       "       [5.4, 3.7, 1.5, 0.2],\n",
       "       [4.8, 3.4, 1.6, 0.2],\n",
       "       [4.8, 3. , 1.4, 0.1],\n",
       "       [4.3, 3. , 1.1, 0.1],\n",
       "       [5.8, 4. , 1.2, 0.2],\n",
       "       [5.7, 4.4, 1.5, 0.4],\n",
       "       [5.4, 3.9, 1.3, 0.4],\n",
       "       [5.1, 3.5, 1.4, 0.3],\n",
       "       [5.7, 3.8, 1.7, 0.3],\n",
       "       [5.1, 3.8, 1.5, 0.3],\n",
       "       [5.4, 3.4, 1.7, 0.2],\n",
       "       [5.1, 3.7, 1.5, 0.4],\n",
       "       [4.6, 3.6, 1. , 0.2],\n",
       "       [5.1, 3.3, 1.7, 0.5],\n",
       "       [4.8, 3.4, 1.9, 0.2],\n",
       "       [5. , 3. , 1.6, 0.2],\n",
       "       [5. , 3.4, 1.6, 0.4],\n",
       "       [5.2, 3.5, 1.5, 0.2],\n",
       "       [5.2, 3.4, 1.4, 0.2],\n",
       "       [4.7, 3.2, 1.6, 0.2],\n",
       "       [4.8, 3.1, 1.6, 0.2],\n",
       "       [5.4, 3.4, 1.5, 0.4],\n",
       "       [5.2, 4.1, 1.5, 0.1],\n",
       "       [5.5, 4.2, 1.4, 0.2],\n",
       "       [4.9, 3.1, 1.5, 0.2],\n",
       "       [5. , 3.2, 1.2, 0.2],\n",
       "       [5.5, 3.5, 1.3, 0.2],\n",
       "       [4.9, 3.6, 1.4, 0.1],\n",
       "       [4.4, 3. , 1.3, 0.2],\n",
       "       [5.1, 3.4, 1.5, 0.2],\n",
       "       [5. , 3.5, 1.3, 0.3],\n",
       "       [4.5, 2.3, 1.3, 0.3],\n",
       "       [4.4, 3.2, 1.3, 0.2],\n",
       "       [5. , 3.5, 1.6, 0.6],\n",
       "       [5.1, 3.8, 1.9, 0.4],\n",
       "       [4.8, 3. , 1.4, 0.3],\n",
       "       [5.1, 3.8, 1.6, 0.2],\n",
       "       [4.6, 3.2, 1.4, 0.2],\n",
       "       [5.3, 3.7, 1.5, 0.2],\n",
       "       [5. , 3.3, 1.4, 0.2],\n",
       "       [7. , 3.2, 4.7, 1.4],\n",
       "       [6.4, 3.2, 4.5, 1.5],\n",
       "       [6.9, 3.1, 4.9, 1.5],\n",
       "       [5.5, 2.3, 4. , 1.3],\n",
       "       [6.5, 2.8, 4.6, 1.5],\n",
       "       [5.7, 2.8, 4.5, 1.3],\n",
       "       [6.3, 3.3, 4.7, 1.6],\n",
       "       [4.9, 2.4, 3.3, 1. ],\n",
       "       [6.6, 2.9, 4.6, 1.3],\n",
       "       [5.2, 2.7, 3.9, 1.4],\n",
       "       [5. , 2. , 3.5, 1. ],\n",
       "       [5.9, 3. , 4.2, 1.5],\n",
       "       [6. , 2.2, 4. , 1. ],\n",
       "       [6.1, 2.9, 4.7, 1.4],\n",
       "       [5.6, 2.9, 3.6, 1.3],\n",
       "       [6.7, 3.1, 4.4, 1.4],\n",
       "       [5.6, 3. , 4.5, 1.5],\n",
       "       [5.8, 2.7, 4.1, 1. ],\n",
       "       [6.2, 2.2, 4.5, 1.5],\n",
       "       [5.6, 2.5, 3.9, 1.1],\n",
       "       [5.9, 3.2, 4.8, 1.8],\n",
       "       [6.1, 2.8, 4. , 1.3],\n",
       "       [6.3, 2.5, 4.9, 1.5],\n",
       "       [6.1, 2.8, 4.7, 1.2],\n",
       "       [6.4, 2.9, 4.3, 1.3],\n",
       "       [6.6, 3. , 4.4, 1.4],\n",
       "       [6.8, 2.8, 4.8, 1.4],\n",
       "       [6.7, 3. , 5. , 1.7],\n",
       "       [6. , 2.9, 4.5, 1.5],\n",
       "       [5.7, 2.6, 3.5, 1. ],\n",
       "       [5.5, 2.4, 3.8, 1.1],\n",
       "       [5.5, 2.4, 3.7, 1. ],\n",
       "       [5.8, 2.7, 3.9, 1.2],\n",
       "       [6. , 2.7, 5.1, 1.6],\n",
       "       [5.4, 3. , 4.5, 1.5],\n",
       "       [6. , 3.4, 4.5, 1.6],\n",
       "       [6.7, 3.1, 4.7, 1.5],\n",
       "       [6.3, 2.3, 4.4, 1.3],\n",
       "       [5.6, 3. , 4.1, 1.3],\n",
       "       [5.5, 2.5, 4. , 1.3],\n",
       "       [5.5, 2.6, 4.4, 1.2],\n",
       "       [6.1, 3. , 4.6, 1.4],\n",
       "       [5.8, 2.6, 4. , 1.2],\n",
       "       [5. , 2.3, 3.3, 1. ],\n",
       "       [5.6, 2.7, 4.2, 1.3],\n",
       "       [5.7, 3. , 4.2, 1.2],\n",
       "       [5.7, 2.9, 4.2, 1.3],\n",
       "       [6.2, 2.9, 4.3, 1.3],\n",
       "       [5.1, 2.5, 3. , 1.1],\n",
       "       [5.7, 2.8, 4.1, 1.3]])"
      ]
     },
     "execution_count": 13,
     "metadata": {},
     "output_type": "execute_result"
    }
   ],
   "source": [
    "X"
   ]
  },
  {
   "cell_type": "code",
   "execution_count": 14,
   "id": "19d517cd",
   "metadata": {},
   "outputs": [
    {
     "data": {
      "text/plain": [
       "array([0, 0, 0, 0, 0, 0, 0, 0, 0, 0, 0, 0, 0, 0, 0, 0, 0, 0, 0, 0, 0, 0,\n",
       "       0, 0, 0, 0, 0, 0, 0, 0, 0, 0, 0, 0, 0, 0, 0, 0, 0, 0, 0, 0, 0, 0,\n",
       "       0, 0, 0, 0, 0, 0, 1, 1, 1, 1, 1, 1, 1, 1, 1, 1, 1, 1, 1, 1, 1, 1,\n",
       "       1, 1, 1, 1, 1, 1, 1, 1, 1, 1, 1, 1, 1, 1, 1, 1, 1, 1, 1, 1, 1, 1,\n",
       "       1, 1, 1, 1, 1, 1, 1, 1, 1, 1, 1, 1])"
      ]
     },
     "execution_count": 14,
     "metadata": {},
     "output_type": "execute_result"
    }
   ],
   "source": [
    "y"
   ]
  },
  {
   "cell_type": "code",
   "execution_count": 92,
   "id": "d3b4088a",
   "metadata": {},
   "outputs": [],
   "source": [
    "X_train,X_test,y_train,y_test = train_test_split(X,y,test_size=0.2,random_state=42)\n",
    "scaler=StandardScaler()\n",
    "X_train=scaler.fit_transform(X_train)\n",
    "X_test=scaler.transform(X_test)\n",
    "model=Sequential()\n",
    "model.add(Dense(8,input_shape=(X_train.shape[1],),activation='relu'))\n",
    "#model.add(Dense(32,activation='relu'))\n",
    "model.add(Dense(1,activation='sigmoid'))\n",
    "model.compile(optimizer='adam',loss='binary_crossentropy',metrics=['accuracy'])\n"
   ]
  },
  {
   "cell_type": "code",
   "execution_count": 93,
   "id": "a5541623",
   "metadata": {},
   "outputs": [
    {
     "name": "stdout",
     "output_type": "stream",
     "text": [
      "Epoch 1/100\n",
      "5/5 [==============================] - 1s 34ms/step - loss: 0.6791 - accuracy: 0.6026 - val_loss: 0.6913 - val_accuracy: 0.6154\n",
      "Epoch 2/100\n",
      "5/5 [==============================] - 0s 8ms/step - loss: 0.6646 - accuracy: 0.6410 - val_loss: 0.6873 - val_accuracy: 0.5897\n",
      "Epoch 3/100\n",
      "5/5 [==============================] - 0s 8ms/step - loss: 0.6553 - accuracy: 0.6667 - val_loss: 0.6839 - val_accuracy: 0.5897\n",
      "Epoch 4/100\n",
      "5/5 [==============================] - 0s 12ms/step - loss: 0.6467 - accuracy: 0.6731 - val_loss: 0.6829 - val_accuracy: 0.5641\n",
      "Epoch 5/100\n",
      "5/5 [==============================] - 0s 8ms/step - loss: 0.6400 - accuracy: 0.6731 - val_loss: 0.6820 - val_accuracy: 0.5641\n",
      "Epoch 6/100\n",
      "5/5 [==============================] - 0s 8ms/step - loss: 0.6349 - accuracy: 0.6859 - val_loss: 0.6812 - val_accuracy: 0.5641\n",
      "Epoch 7/100\n",
      "5/5 [==============================] - 0s 8ms/step - loss: 0.6283 - accuracy: 0.6859 - val_loss: 0.6810 - val_accuracy: 0.6410\n",
      "Epoch 8/100\n",
      "5/5 [==============================] - 0s 8ms/step - loss: 0.6237 - accuracy: 0.6859 - val_loss: 0.6808 - val_accuracy: 0.6154\n",
      "Epoch 9/100\n",
      "5/5 [==============================] - 0s 8ms/step - loss: 0.6194 - accuracy: 0.6923 - val_loss: 0.6809 - val_accuracy: 0.6154\n",
      "Epoch 10/100\n",
      "5/5 [==============================] - 0s 4ms/step - loss: 0.6150 - accuracy: 0.6923 - val_loss: 0.6810 - val_accuracy: 0.6154\n",
      "Epoch 11/100\n",
      "5/5 [==============================] - 0s 8ms/step - loss: 0.6112 - accuracy: 0.6923 - val_loss: 0.6811 - val_accuracy: 0.5897\n",
      "Epoch 12/100\n",
      "5/5 [==============================] - 0s 8ms/step - loss: 0.6072 - accuracy: 0.7115 - val_loss: 0.6817 - val_accuracy: 0.5897\n",
      "Epoch 13/100\n",
      "5/5 [==============================] - 0s 8ms/step - loss: 0.6042 - accuracy: 0.7179 - val_loss: 0.6816 - val_accuracy: 0.5897\n",
      "Epoch 14/100\n",
      "5/5 [==============================] - 0s 12ms/step - loss: 0.6010 - accuracy: 0.7179 - val_loss: 0.6825 - val_accuracy: 0.6154\n",
      "Epoch 15/100\n",
      "5/5 [==============================] - 0s 12ms/step - loss: 0.5980 - accuracy: 0.7308 - val_loss: 0.6820 - val_accuracy: 0.5897\n",
      "Epoch 16/100\n",
      "5/5 [==============================] - 0s 8ms/step - loss: 0.5940 - accuracy: 0.7308 - val_loss: 0.6819 - val_accuracy: 0.5897\n",
      "Epoch 17/100\n",
      "5/5 [==============================] - 0s 8ms/step - loss: 0.5907 - accuracy: 0.7308 - val_loss: 0.6818 - val_accuracy: 0.5897\n",
      "Epoch 18/100\n",
      "5/5 [==============================] - 0s 8ms/step - loss: 0.5879 - accuracy: 0.7308 - val_loss: 0.6818 - val_accuracy: 0.5897\n",
      "Epoch 19/100\n",
      "5/5 [==============================] - 0s 8ms/step - loss: 0.5846 - accuracy: 0.7244 - val_loss: 0.6818 - val_accuracy: 0.5897\n",
      "Epoch 20/100\n",
      "5/5 [==============================] - 0s 8ms/step - loss: 0.5820 - accuracy: 0.7308 - val_loss: 0.6820 - val_accuracy: 0.5897\n",
      "Epoch 21/100\n",
      "5/5 [==============================] - 0s 8ms/step - loss: 0.5794 - accuracy: 0.7244 - val_loss: 0.6825 - val_accuracy: 0.5641\n",
      "Epoch 22/100\n",
      "5/5 [==============================] - 0s 8ms/step - loss: 0.5762 - accuracy: 0.7372 - val_loss: 0.6836 - val_accuracy: 0.5897\n",
      "Epoch 23/100\n",
      "5/5 [==============================] - 0s 8ms/step - loss: 0.5734 - accuracy: 0.7372 - val_loss: 0.6851 - val_accuracy: 0.5897\n",
      "Epoch 24/100\n",
      "5/5 [==============================] - 0s 8ms/step - loss: 0.5709 - accuracy: 0.7436 - val_loss: 0.6858 - val_accuracy: 0.5897\n",
      "Epoch 25/100\n",
      "5/5 [==============================] - 0s 8ms/step - loss: 0.5691 - accuracy: 0.7500 - val_loss: 0.6875 - val_accuracy: 0.5897\n",
      "Epoch 26/100\n",
      "5/5 [==============================] - 0s 8ms/step - loss: 0.5661 - accuracy: 0.7564 - val_loss: 0.6880 - val_accuracy: 0.5641\n",
      "Epoch 27/100\n",
      "5/5 [==============================] - 0s 8ms/step - loss: 0.5636 - accuracy: 0.7564 - val_loss: 0.6893 - val_accuracy: 0.5641\n",
      "Epoch 28/100\n",
      "5/5 [==============================] - 0s 8ms/step - loss: 0.5614 - accuracy: 0.7564 - val_loss: 0.6905 - val_accuracy: 0.5641\n",
      "Epoch 29/100\n",
      "5/5 [==============================] - 0s 8ms/step - loss: 0.5589 - accuracy: 0.7564 - val_loss: 0.6915 - val_accuracy: 0.5641\n",
      "Epoch 30/100\n",
      "5/5 [==============================] - 0s 9ms/step - loss: 0.5572 - accuracy: 0.7564 - val_loss: 0.6928 - val_accuracy: 0.5641\n",
      "Epoch 31/100\n",
      "5/5 [==============================] - 0s 7ms/step - loss: 0.5548 - accuracy: 0.7564 - val_loss: 0.6948 - val_accuracy: 0.5641\n",
      "Epoch 32/100\n",
      "5/5 [==============================] - 0s 8ms/step - loss: 0.5527 - accuracy: 0.7564 - val_loss: 0.6962 - val_accuracy: 0.5641\n",
      "Epoch 33/100\n",
      "5/5 [==============================] - 0s 8ms/step - loss: 0.5505 - accuracy: 0.7564 - val_loss: 0.6977 - val_accuracy: 0.5641\n",
      "Epoch 34/100\n",
      "5/5 [==============================] - 0s 8ms/step - loss: 0.5488 - accuracy: 0.7628 - val_loss: 0.6988 - val_accuracy: 0.5641\n",
      "Epoch 35/100\n",
      "5/5 [==============================] - 0s 8ms/step - loss: 0.5461 - accuracy: 0.7692 - val_loss: 0.6998 - val_accuracy: 0.5385\n",
      "Epoch 36/100\n",
      "5/5 [==============================] - 0s 8ms/step - loss: 0.5441 - accuracy: 0.7628 - val_loss: 0.7006 - val_accuracy: 0.5385\n",
      "Epoch 37/100\n",
      "5/5 [==============================] - 0s 8ms/step - loss: 0.5421 - accuracy: 0.7628 - val_loss: 0.7016 - val_accuracy: 0.5385\n",
      "Epoch 38/100\n",
      "5/5 [==============================] - 0s 8ms/step - loss: 0.5405 - accuracy: 0.7628 - val_loss: 0.7050 - val_accuracy: 0.5385\n",
      "Epoch 39/100\n",
      "5/5 [==============================] - 0s 8ms/step - loss: 0.5382 - accuracy: 0.7628 - val_loss: 0.7059 - val_accuracy: 0.5641\n",
      "Epoch 40/100\n",
      "5/5 [==============================] - 0s 8ms/step - loss: 0.5369 - accuracy: 0.7628 - val_loss: 0.7083 - val_accuracy: 0.5385\n",
      "Epoch 41/100\n",
      "5/5 [==============================] - 0s 12ms/step - loss: 0.5349 - accuracy: 0.7628 - val_loss: 0.7095 - val_accuracy: 0.5385\n",
      "Epoch 42/100\n",
      "5/5 [==============================] - 0s 8ms/step - loss: 0.5335 - accuracy: 0.7628 - val_loss: 0.7114 - val_accuracy: 0.5385\n",
      "Epoch 43/100\n",
      "5/5 [==============================] - 0s 8ms/step - loss: 0.5318 - accuracy: 0.7756 - val_loss: 0.7135 - val_accuracy: 0.5641\n",
      "Epoch 44/100\n",
      "5/5 [==============================] - 0s 8ms/step - loss: 0.5294 - accuracy: 0.7692 - val_loss: 0.7140 - val_accuracy: 0.5385\n",
      "Epoch 45/100\n",
      "5/5 [==============================] - 0s 8ms/step - loss: 0.5278 - accuracy: 0.7692 - val_loss: 0.7148 - val_accuracy: 0.5385\n",
      "Epoch 46/100\n",
      "5/5 [==============================] - 0s 8ms/step - loss: 0.5261 - accuracy: 0.7628 - val_loss: 0.7182 - val_accuracy: 0.5385\n",
      "Epoch 47/100\n",
      "5/5 [==============================] - 0s 8ms/step - loss: 0.5240 - accuracy: 0.7756 - val_loss: 0.7194 - val_accuracy: 0.5641\n",
      "Epoch 48/100\n",
      "5/5 [==============================] - 0s 8ms/step - loss: 0.5221 - accuracy: 0.7756 - val_loss: 0.7207 - val_accuracy: 0.5641\n",
      "Epoch 49/100\n",
      "5/5 [==============================] - 0s 8ms/step - loss: 0.5208 - accuracy: 0.7756 - val_loss: 0.7234 - val_accuracy: 0.5641\n",
      "Epoch 50/100\n",
      "5/5 [==============================] - 0s 8ms/step - loss: 0.5190 - accuracy: 0.7692 - val_loss: 0.7243 - val_accuracy: 0.5385\n",
      "Epoch 51/100\n",
      "5/5 [==============================] - 0s 8ms/step - loss: 0.5174 - accuracy: 0.7756 - val_loss: 0.7252 - val_accuracy: 0.5641\n",
      "Epoch 52/100\n",
      "5/5 [==============================] - 0s 8ms/step - loss: 0.5156 - accuracy: 0.7821 - val_loss: 0.7271 - val_accuracy: 0.5641\n",
      "Epoch 53/100\n",
      "5/5 [==============================] - 0s 8ms/step - loss: 0.5136 - accuracy: 0.7821 - val_loss: 0.7308 - val_accuracy: 0.5641\n",
      "Epoch 54/100\n",
      "5/5 [==============================] - 0s 8ms/step - loss: 0.5124 - accuracy: 0.7885 - val_loss: 0.7356 - val_accuracy: 0.5385\n",
      "Epoch 55/100\n",
      "5/5 [==============================] - 0s 8ms/step - loss: 0.5108 - accuracy: 0.7756 - val_loss: 0.7372 - val_accuracy: 0.5641\n",
      "Epoch 56/100\n",
      "5/5 [==============================] - 0s 8ms/step - loss: 0.5094 - accuracy: 0.7756 - val_loss: 0.7374 - val_accuracy: 0.5385\n",
      "Epoch 57/100\n",
      "5/5 [==============================] - 0s 8ms/step - loss: 0.5077 - accuracy: 0.7821 - val_loss: 0.7392 - val_accuracy: 0.5641\n",
      "Epoch 58/100\n",
      "5/5 [==============================] - 0s 8ms/step - loss: 0.5060 - accuracy: 0.7821 - val_loss: 0.7422 - val_accuracy: 0.5385\n",
      "Epoch 59/100\n",
      "5/5 [==============================] - 0s 8ms/step - loss: 0.5044 - accuracy: 0.7821 - val_loss: 0.7425 - val_accuracy: 0.5385\n",
      "Epoch 60/100\n",
      "5/5 [==============================] - 0s 8ms/step - loss: 0.5029 - accuracy: 0.7821 - val_loss: 0.7447 - val_accuracy: 0.5385\n",
      "Epoch 61/100\n",
      "5/5 [==============================] - 0s 8ms/step - loss: 0.5014 - accuracy: 0.7821 - val_loss: 0.7486 - val_accuracy: 0.5385\n",
      "Epoch 62/100\n",
      "5/5 [==============================] - 0s 5ms/step - loss: 0.4999 - accuracy: 0.7821 - val_loss: 0.7500 - val_accuracy: 0.5385\n",
      "Epoch 63/100\n",
      "5/5 [==============================] - 0s 4ms/step - loss: 0.4982 - accuracy: 0.7821 - val_loss: 0.7527 - val_accuracy: 0.5385\n",
      "Epoch 64/100\n",
      "5/5 [==============================] - 0s 4ms/step - loss: 0.4977 - accuracy: 0.7821 - val_loss: 0.7531 - val_accuracy: 0.5385\n",
      "Epoch 65/100\n",
      "5/5 [==============================] - 0s 4ms/step - loss: 0.4951 - accuracy: 0.7821 - val_loss: 0.7557 - val_accuracy: 0.5385\n",
      "Epoch 66/100\n",
      "5/5 [==============================] - 0s 4ms/step - loss: 0.4932 - accuracy: 0.7821 - val_loss: 0.7607 - val_accuracy: 0.5385\n",
      "Epoch 67/100\n",
      "5/5 [==============================] - 0s 4ms/step - loss: 0.4916 - accuracy: 0.7821 - val_loss: 0.7620 - val_accuracy: 0.5385\n",
      "Epoch 68/100\n",
      "5/5 [==============================] - 0s 4ms/step - loss: 0.4897 - accuracy: 0.7821 - val_loss: 0.7677 - val_accuracy: 0.5385\n",
      "Epoch 69/100\n",
      "5/5 [==============================] - 0s 4ms/step - loss: 0.4879 - accuracy: 0.7821 - val_loss: 0.7693 - val_accuracy: 0.5385\n",
      "Epoch 70/100\n",
      "5/5 [==============================] - 0s 8ms/step - loss: 0.4866 - accuracy: 0.7821 - val_loss: 0.7701 - val_accuracy: 0.5641\n",
      "Epoch 71/100\n",
      "5/5 [==============================] - 0s 8ms/step - loss: 0.4846 - accuracy: 0.7885 - val_loss: 0.7695 - val_accuracy: 0.5641\n",
      "Epoch 72/100\n",
      "5/5 [==============================] - 0s 8ms/step - loss: 0.4837 - accuracy: 0.7821 - val_loss: 0.7698 - val_accuracy: 0.5385\n",
      "Epoch 73/100\n",
      "5/5 [==============================] - 0s 8ms/step - loss: 0.4823 - accuracy: 0.7821 - val_loss: 0.7744 - val_accuracy: 0.5385\n",
      "Epoch 74/100\n",
      "5/5 [==============================] - 0s 8ms/step - loss: 0.4811 - accuracy: 0.7885 - val_loss: 0.7795 - val_accuracy: 0.5641\n",
      "Epoch 75/100\n",
      "5/5 [==============================] - 0s 8ms/step - loss: 0.4789 - accuracy: 0.7885 - val_loss: 0.7805 - val_accuracy: 0.5641\n",
      "Epoch 76/100\n",
      "5/5 [==============================] - 0s 8ms/step - loss: 0.4768 - accuracy: 0.7885 - val_loss: 0.7837 - val_accuracy: 0.5641\n",
      "Epoch 77/100\n",
      "5/5 [==============================] - 0s 8ms/step - loss: 0.4766 - accuracy: 0.7885 - val_loss: 0.7838 - val_accuracy: 0.5641\n",
      "Epoch 78/100\n",
      "5/5 [==============================] - 0s 8ms/step - loss: 0.4749 - accuracy: 0.7885 - val_loss: 0.7852 - val_accuracy: 0.5641\n",
      "Epoch 79/100\n",
      "5/5 [==============================] - 0s 8ms/step - loss: 0.4728 - accuracy: 0.7885 - val_loss: 0.7873 - val_accuracy: 0.5641\n",
      "Epoch 80/100\n",
      "5/5 [==============================] - 0s 8ms/step - loss: 0.4721 - accuracy: 0.7885 - val_loss: 0.7935 - val_accuracy: 0.5641\n",
      "Epoch 81/100\n",
      "5/5 [==============================] - 0s 8ms/step - loss: 0.4709 - accuracy: 0.7821 - val_loss: 0.7972 - val_accuracy: 0.5641\n",
      "Epoch 82/100\n",
      "5/5 [==============================] - 0s 8ms/step - loss: 0.4690 - accuracy: 0.7821 - val_loss: 0.7963 - val_accuracy: 0.5641\n",
      "Epoch 83/100\n",
      "5/5 [==============================] - 0s 3ms/step - loss: 0.4685 - accuracy: 0.7821 - val_loss: 0.8015 - val_accuracy: 0.5641\n",
      "Epoch 84/100\n",
      "5/5 [==============================] - 0s 4ms/step - loss: 0.4663 - accuracy: 0.7821 - val_loss: 0.8010 - val_accuracy: 0.5641\n",
      "Epoch 85/100\n",
      "5/5 [==============================] - 0s 4ms/step - loss: 0.4652 - accuracy: 0.7821 - val_loss: 0.8026 - val_accuracy: 0.5641\n",
      "Epoch 86/100\n",
      "5/5 [==============================] - 0s 4ms/step - loss: 0.4655 - accuracy: 0.7821 - val_loss: 0.8030 - val_accuracy: 0.5641\n",
      "Epoch 87/100\n",
      "5/5 [==============================] - 0s 4ms/step - loss: 0.4631 - accuracy: 0.7821 - val_loss: 0.8073 - val_accuracy: 0.5641\n",
      "Epoch 88/100\n",
      "5/5 [==============================] - 0s 4ms/step - loss: 0.4627 - accuracy: 0.7821 - val_loss: 0.8150 - val_accuracy: 0.5641\n",
      "Epoch 89/100\n",
      "5/5 [==============================] - 0s 4ms/step - loss: 0.4608 - accuracy: 0.7821 - val_loss: 0.8190 - val_accuracy: 0.5641\n",
      "Epoch 90/100\n",
      "5/5 [==============================] - 0s 4ms/step - loss: 0.4594 - accuracy: 0.7821 - val_loss: 0.8215 - val_accuracy: 0.5641\n",
      "Epoch 91/100\n",
      "5/5 [==============================] - 0s 4ms/step - loss: 0.4587 - accuracy: 0.7821 - val_loss: 0.8219 - val_accuracy: 0.5641\n",
      "Epoch 92/100\n",
      "5/5 [==============================] - 0s 4ms/step - loss: 0.4576 - accuracy: 0.7821 - val_loss: 0.8225 - val_accuracy: 0.5641\n",
      "Epoch 93/100\n",
      "5/5 [==============================] - 0s 4ms/step - loss: 0.4558 - accuracy: 0.7821 - val_loss: 0.8245 - val_accuracy: 0.5641\n",
      "Epoch 94/100\n",
      "5/5 [==============================] - 0s 4ms/step - loss: 0.4556 - accuracy: 0.7821 - val_loss: 0.8249 - val_accuracy: 0.5641\n",
      "Epoch 95/100\n",
      "5/5 [==============================] - 0s 4ms/step - loss: 0.4541 - accuracy: 0.7821 - val_loss: 0.8312 - val_accuracy: 0.5641\n",
      "Epoch 96/100\n",
      "5/5 [==============================] - 0s 4ms/step - loss: 0.4525 - accuracy: 0.7821 - val_loss: 0.8373 - val_accuracy: 0.5641\n",
      "Epoch 97/100\n",
      "5/5 [==============================] - 0s 4ms/step - loss: 0.4517 - accuracy: 0.7821 - val_loss: 0.8404 - val_accuracy: 0.5641\n",
      "Epoch 98/100\n",
      "5/5 [==============================] - 0s 4ms/step - loss: 0.4508 - accuracy: 0.7821 - val_loss: 0.8445 - val_accuracy: 0.5641\n",
      "Epoch 99/100\n",
      "5/5 [==============================] - 0s 4ms/step - loss: 0.4502 - accuracy: 0.7821 - val_loss: 0.8408 - val_accuracy: 0.5641\n",
      "Epoch 100/100\n",
      "5/5 [==============================] - 0s 4ms/step - loss: 0.4483 - accuracy: 0.7821 - val_loss: 0.8460 - val_accuracy: 0.5641\n"
     ]
    },
    {
     "data": {
      "text/plain": [
       "<keras.callbacks.History at 0x23b5d456520>"
      ]
     },
     "execution_count": 93,
     "metadata": {},
     "output_type": "execute_result"
    }
   ],
   "source": [
    "model.fit(X_train,y_train,epochs=100,batch_size=32,validation_split=0.2)"
   ]
  },
  {
   "cell_type": "code",
   "execution_count": 94,
   "id": "d03ca361",
   "metadata": {},
   "outputs": [
    {
     "name": "stdout",
     "output_type": "stream",
     "text": [
      "2/2 [==============================] - 0s 0s/step - loss: 0.7226 - accuracy: 0.6735\n"
     ]
    }
   ],
   "source": [
    "loss,accuracy=model.evaluate(X_test,y_test)"
   ]
  },
  {
   "cell_type": "code",
   "execution_count": 95,
   "id": "0e246957",
   "metadata": {},
   "outputs": [
    {
     "name": "stdout",
     "output_type": "stream",
     "text": [
      "Test accuracy -->  67.34693646430969 %\n"
     ]
    }
   ],
   "source": [
    "print(\"Test accuracy --> \",accuracy*100,\"%\")"
   ]
  },
  {
   "cell_type": "code",
   "execution_count": 3,
   "id": "6bbf1eab",
   "metadata": {},
   "outputs": [
    {
     "name": "stdout",
     "output_type": "stream",
     "text": [
      "Downloading data from https://storage.googleapis.com/tensorflow/tf-keras-datasets/train-labels-idx1-ubyte.gz\n",
      "29515/29515 [==============================] - 0s 1us/step\n",
      "Downloading data from https://storage.googleapis.com/tensorflow/tf-keras-datasets/train-images-idx3-ubyte.gz\n",
      "26421880/26421880 [==============================] - 5s 0us/step\n",
      "Downloading data from https://storage.googleapis.com/tensorflow/tf-keras-datasets/t10k-labels-idx1-ubyte.gz\n",
      "5148/5148 [==============================] - 0s 0s/step\n",
      "Downloading data from https://storage.googleapis.com/tensorflow/tf-keras-datasets/t10k-images-idx3-ubyte.gz\n",
      "4422102/4422102 [==============================] - 2s 1us/step\n"
     ]
    },
    {
     "data": {
      "text/plain": [
       "((array([[[0, 0, 0, ..., 0, 0, 0],\n",
       "          [0, 0, 0, ..., 0, 0, 0],\n",
       "          [0, 0, 0, ..., 0, 0, 0],\n",
       "          ...,\n",
       "          [0, 0, 0, ..., 0, 0, 0],\n",
       "          [0, 0, 0, ..., 0, 0, 0],\n",
       "          [0, 0, 0, ..., 0, 0, 0]],\n",
       "  \n",
       "         [[0, 0, 0, ..., 0, 0, 0],\n",
       "          [0, 0, 0, ..., 0, 0, 0],\n",
       "          [0, 0, 0, ..., 0, 0, 0],\n",
       "          ...,\n",
       "          [0, 0, 0, ..., 0, 0, 0],\n",
       "          [0, 0, 0, ..., 0, 0, 0],\n",
       "          [0, 0, 0, ..., 0, 0, 0]],\n",
       "  \n",
       "         [[0, 0, 0, ..., 0, 0, 0],\n",
       "          [0, 0, 0, ..., 0, 0, 0],\n",
       "          [0, 0, 0, ..., 0, 0, 0],\n",
       "          ...,\n",
       "          [0, 0, 0, ..., 0, 0, 0],\n",
       "          [0, 0, 0, ..., 0, 0, 0],\n",
       "          [0, 0, 0, ..., 0, 0, 0]],\n",
       "  \n",
       "         ...,\n",
       "  \n",
       "         [[0, 0, 0, ..., 0, 0, 0],\n",
       "          [0, 0, 0, ..., 0, 0, 0],\n",
       "          [0, 0, 0, ..., 0, 0, 0],\n",
       "          ...,\n",
       "          [0, 0, 0, ..., 0, 0, 0],\n",
       "          [0, 0, 0, ..., 0, 0, 0],\n",
       "          [0, 0, 0, ..., 0, 0, 0]],\n",
       "  \n",
       "         [[0, 0, 0, ..., 0, 0, 0],\n",
       "          [0, 0, 0, ..., 0, 0, 0],\n",
       "          [0, 0, 0, ..., 0, 0, 0],\n",
       "          ...,\n",
       "          [0, 0, 0, ..., 0, 0, 0],\n",
       "          [0, 0, 0, ..., 0, 0, 0],\n",
       "          [0, 0, 0, ..., 0, 0, 0]],\n",
       "  \n",
       "         [[0, 0, 0, ..., 0, 0, 0],\n",
       "          [0, 0, 0, ..., 0, 0, 0],\n",
       "          [0, 0, 0, ..., 0, 0, 0],\n",
       "          ...,\n",
       "          [0, 0, 0, ..., 0, 0, 0],\n",
       "          [0, 0, 0, ..., 0, 0, 0],\n",
       "          [0, 0, 0, ..., 0, 0, 0]]], dtype=uint8),\n",
       "  array([9, 0, 0, ..., 3, 0, 5], dtype=uint8)),\n",
       " (array([[[0, 0, 0, ..., 0, 0, 0],\n",
       "          [0, 0, 0, ..., 0, 0, 0],\n",
       "          [0, 0, 0, ..., 0, 0, 0],\n",
       "          ...,\n",
       "          [0, 0, 0, ..., 0, 0, 0],\n",
       "          [0, 0, 0, ..., 0, 0, 0],\n",
       "          [0, 0, 0, ..., 0, 0, 0]],\n",
       "  \n",
       "         [[0, 0, 0, ..., 0, 0, 0],\n",
       "          [0, 0, 0, ..., 0, 0, 0],\n",
       "          [0, 0, 0, ..., 0, 0, 0],\n",
       "          ...,\n",
       "          [0, 0, 0, ..., 0, 0, 0],\n",
       "          [0, 0, 0, ..., 0, 0, 0],\n",
       "          [0, 0, 0, ..., 0, 0, 0]],\n",
       "  \n",
       "         [[0, 0, 0, ..., 0, 0, 0],\n",
       "          [0, 0, 0, ..., 0, 0, 0],\n",
       "          [0, 0, 0, ..., 0, 0, 0],\n",
       "          ...,\n",
       "          [0, 0, 0, ..., 0, 0, 0],\n",
       "          [0, 0, 0, ..., 0, 0, 0],\n",
       "          [0, 0, 0, ..., 0, 0, 0]],\n",
       "  \n",
       "         ...,\n",
       "  \n",
       "         [[0, 0, 0, ..., 0, 0, 0],\n",
       "          [0, 0, 0, ..., 0, 0, 0],\n",
       "          [0, 0, 0, ..., 0, 0, 0],\n",
       "          ...,\n",
       "          [0, 0, 0, ..., 0, 0, 0],\n",
       "          [0, 0, 0, ..., 0, 0, 0],\n",
       "          [0, 0, 0, ..., 0, 0, 0]],\n",
       "  \n",
       "         [[0, 0, 0, ..., 0, 0, 0],\n",
       "          [0, 0, 0, ..., 0, 0, 0],\n",
       "          [0, 0, 0, ..., 0, 0, 0],\n",
       "          ...,\n",
       "          [0, 0, 0, ..., 0, 0, 0],\n",
       "          [0, 0, 0, ..., 0, 0, 0],\n",
       "          [0, 0, 0, ..., 0, 0, 0]],\n",
       "  \n",
       "         [[0, 0, 0, ..., 0, 0, 0],\n",
       "          [0, 0, 0, ..., 0, 0, 0],\n",
       "          [0, 0, 0, ..., 0, 0, 0],\n",
       "          ...,\n",
       "          [0, 0, 0, ..., 0, 0, 0],\n",
       "          [0, 0, 0, ..., 0, 0, 0],\n",
       "          [0, 0, 0, ..., 0, 0, 0]]], dtype=uint8),\n",
       "  array([9, 2, 1, ..., 8, 1, 5], dtype=uint8)))"
      ]
     },
     "execution_count": 3,
     "metadata": {},
     "output_type": "execute_result"
    }
   ],
   "source": [
    "tf.keras.datasets.fashion_mnist.load_data()"
   ]
  },
  {
   "cell_type": "code",
   "execution_count": null,
   "id": "0e550051",
   "metadata": {},
   "outputs": [],
   "source": []
  }
 ],
 "metadata": {
  "kernelspec": {
   "display_name": "Python 3 (ipykernel)",
   "language": "python",
   "name": "python3"
  },
  "language_info": {
   "codemirror_mode": {
    "name": "ipython",
    "version": 3
   },
   "file_extension": ".py",
   "mimetype": "text/x-python",
   "name": "python",
   "nbconvert_exporter": "python",
   "pygments_lexer": "ipython3",
   "version": "3.9.7"
  }
 },
 "nbformat": 4,
 "nbformat_minor": 5
}
