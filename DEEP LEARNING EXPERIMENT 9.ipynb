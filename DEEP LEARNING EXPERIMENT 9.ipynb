{
 "cells": [
  {
   "cell_type": "code",
   "execution_count": 1,
   "metadata": {
    "_cell_guid": "b1076dfc-b9ad-4769-8c92-a6c4dae69d19",
    "_uuid": "8f2839f25d086af736a60e9eeb907d3b93b6e0e5",
    "execution": {
     "iopub.execute_input": "2023-09-28T10:31:17.943256Z",
     "iopub.status.busy": "2023-09-28T10:31:17.943001Z",
     "iopub.status.idle": "2023-09-28T10:31:26.399297Z",
     "shell.execute_reply": "2023-09-28T10:31:26.398257Z",
     "shell.execute_reply.started": "2023-09-28T10:31:17.943231Z"
    }
   },
   "outputs": [
    {
     "name": "stderr",
     "output_type": "stream",
     "text": [
      "/opt/conda/lib/python3.10/site-packages/scipy/__init__.py:146: UserWarning: A NumPy version >=1.16.5 and <1.23.0 is required for this version of SciPy (detected version 1.23.5\n",
      "  warnings.warn(f\"A NumPy version >={np_minversion} and <{np_maxversion}\"\n",
      "/opt/conda/lib/python3.10/site-packages/tensorflow_io/python/ops/__init__.py:98: UserWarning: unable to load libtensorflow_io_plugins.so: unable to open file: libtensorflow_io_plugins.so, from paths: ['/opt/conda/lib/python3.10/site-packages/tensorflow_io/python/ops/libtensorflow_io_plugins.so']\n",
      "caused by: ['/opt/conda/lib/python3.10/site-packages/tensorflow_io/python/ops/libtensorflow_io_plugins.so: undefined symbol: _ZN3tsl6StatusC1EN10tensorflow5error4CodeESt17basic_string_viewIcSt11char_traitsIcEENS_14SourceLocationE']\n",
      "  warnings.warn(f\"unable to load libtensorflow_io_plugins.so: {e}\")\n",
      "/opt/conda/lib/python3.10/site-packages/tensorflow_io/python/ops/__init__.py:104: UserWarning: file system plugins are not loaded: unable to open file: libtensorflow_io.so, from paths: ['/opt/conda/lib/python3.10/site-packages/tensorflow_io/python/ops/libtensorflow_io.so']\n",
      "caused by: ['/opt/conda/lib/python3.10/site-packages/tensorflow_io/python/ops/libtensorflow_io.so: undefined symbol: _ZTVN10tensorflow13GcsFileSystemE']\n",
      "  warnings.warn(f\"file system plugins are not loaded: {e}\")\n"
     ]
    }
   ],
   "source": [
    "import tensorflow as tf\n",
    "from tensorflow.keras.preprocessing.image import ImageDataGenerator\n",
    "from tensorflow.keras.applications import ResNet50\n",
    "from tensorflow.keras.layers import Input, Conv2D, MaxPooling2D, UpSampling2D, Concatenate, GlobalAveragePooling2D, Dense\n",
    "from tensorflow.keras.models import Model\n",
    "from tensorflow.keras.optimizers import Adam\n",
    "from keras.metrics import top_k_categorical_accuracy"
   ]
  },
  {
   "cell_type": "code",
   "execution_count": null,
   "metadata": {
    "execution": {
     "iopub.execute_input": "2023-09-28T10:31:30.215914Z",
     "iopub.status.busy": "2023-09-28T10:31:30.214724Z",
     "iopub.status.idle": "2023-09-28T10:31:32.843997Z",
     "shell.execute_reply": "2023-09-28T10:31:32.843033Z",
     "shell.execute_reply.started": "2023-09-28T10:31:30.215866Z"
    }
   },
   "outputs": [],
   "source": [
    "import warnings\n",
    "warnings.simplefilter(action='ignore', category=FutureWarning)\n",
    "import os\n",
    "from glob import glob\n",
    "from PIL import Image\n",
    "import numpy as np\n",
    "import pandas as pd\n",
    "import cv2\n",
    "import random\n",
    "import albumentations as A\n",
    "import keras\n",
    "import matplotlib.cm as cm\n",
    "import plotly.express as px\n",
    "import plotly.figure_factory as ffis \n",
    "import matplotlib.pyplot as plt\n",
    "import seaborn as sns\n",
    "from keras.callbacks import ModelCheckpoint, EarlyStopping\n",
    "from sklearn.model_selection import train_test_split\n",
    "from keras.preprocessing import image\n",
    "import tensorflow as tf\n",
    "from sklearn.metrics import confusion_matrix, ConfusionMatrixDisplay, classification_report, recall_score, accuracy_score, precision_score, f1_score\n",
    "from tensorflow.keras.preprocessing.image import ImageDataGenerator\n",
    "from tensorflow.keras.applications import DenseNet201\n",
    "from tensorflow.keras.layers import Input, Conv2D, UpSampling2D, Concatenate, GlobalAveragePooling2D, Dense, Multiply, Reshape\n",
    "from tensorflow.keras.models import Model\n",
    "from tensorflow.keras.optimizers import Adam\n",
    "\n",
    "import numpy as np\n",
    "from keras import layers\n",
    "from keras.layers import Input, Add, Dense, Activation, ZeroPadding2D, BatchNormalization, Flatten, Conv2D, AveragePooling2D, MaxPooling2D, GlobalMaxPooling2D\n",
    "from keras.models import Model, load_model\n",
    "from keras.preprocessing import image\n",
    "from keras.utils import layer_utils\n",
    "from keras.utils.data_utils import get_file\n",
    "from keras.applications.imagenet_utils import preprocess_input\n",
    "import pydot\n",
    "from IPython.display import SVG\n",
    "from keras.utils.vis_utils import model_to_dot\n",
    "from keras.utils import plot_model\n",
    "from keras.initializers import glorot_uniform\n",
    "import scipy.misc\n",
    "from matplotlib.pyplot import imshow\n",
    "%matplotlib inline"
   ]
  },
  {
   "cell_type": "code",
   "execution_count": null,
   "metadata": {
    "execution": {
     "iopub.execute_input": "2023-09-28T10:31:44.744034Z",
     "iopub.status.busy": "2023-09-28T10:31:44.743632Z",
     "iopub.status.idle": "2023-09-28T10:31:46.780587Z",
     "shell.execute_reply": "2023-09-28T10:31:46.779355Z",
     "shell.execute_reply.started": "2023-09-28T10:31:44.743996Z"
    }
   },
   "outputs": [],
   "source": [
    "batch_size=32\n",
    "datagen = ImageDataGenerator(\n",
    "    rescale=1.0/255,\n",
    "    samplewise_center=True,\n",
    "    samplewise_std_normalization=True,\n",
    "    rotation_range=40,\n",
    "    width_shift_range=0.2,\n",
    "    height_shift_range=0.2,\n",
    "    shear_range=0.2,\n",
    "    zoom_range=0.2,\n",
    "    horizontal_flip=True,\n",
    "    cval=0,\n",
    "    validation_split=0.2\n",
    ")\n",
    "train_dir='/kaggle/input/covid-pneumonia-normal-chest-xray-images'\n",
    "\n",
    "# Create training data generator\n",
    "train_generator = datagen.flow_from_directory(\n",
    "    train_dir,  # Use the correct path here\n",
    "    target_size=(224, 224),\n",
    "    batch_size=batch_size,\n",
    "    class_mode='categorical',\n",
    "    subset='training',\n",
    "    color_mode='rgb',\n",
    "    shuffle=True,\n",
    "    seed=2022\n",
    ")\n",
    "\n",
    "validation_generator = datagen.flow_from_directory(\n",
    "    train_dir,  # Use the correct path here\n",
    "    target_size=(224, 224),\n",
    "    batch_size=batch_size,\n",
    "    class_mode='categorical',\n",
    "    subset='validation',\n",
    "    shuffle=False\n",
    ")"
   ]
  },
  {
   "cell_type": "code",
   "execution_count": null,
   "metadata": {
    "execution": {
     "iopub.execute_input": "2023-09-28T10:31:52.313502Z",
     "iopub.status.busy": "2023-09-28T10:31:52.313123Z",
     "iopub.status.idle": "2023-09-28T10:31:52.319317Z",
     "shell.execute_reply": "2023-09-28T10:31:52.318015Z",
     "shell.execute_reply.started": "2023-09-28T10:31:52.313470Z"
    }
   },
   "outputs": [],
   "source": [
    "early_stopping = EarlyStopping(\n",
    "    monitor='val_loss',  # Monitor validation loss\n",
    "    patience=20,          # Number of epochs with no improvement to wait\n",
    "    restore_best_weights=True,  # Restore the best model weights when stopping\n",
    "\n",
    ")"
   ]
  },
  {
   "cell_type": "code",
   "execution_count": null,
   "metadata": {
    "execution": {
     "iopub.execute_input": "2023-09-28T10:31:52.678253Z",
     "iopub.status.busy": "2023-09-28T10:31:52.677865Z",
     "iopub.status.idle": "2023-09-28T10:31:52.683110Z",
     "shell.execute_reply": "2023-09-28T10:31:52.681849Z",
     "shell.execute_reply.started": "2023-09-28T10:31:52.678223Z"
    }
   },
   "outputs": [],
   "source": [
    "from tensorflow.keras.applications import VGG19\n"
   ]
  },
  {
   "cell_type": "code",
   "execution_count": null,
   "metadata": {
    "execution": {
     "iopub.execute_input": "2023-09-28T10:31:54.568850Z",
     "iopub.status.busy": "2023-09-28T10:31:54.568123Z",
     "iopub.status.idle": "2023-09-28T10:31:59.442242Z",
     "shell.execute_reply": "2023-09-28T10:31:59.441120Z",
     "shell.execute_reply.started": "2023-09-28T10:31:54.568812Z"
    }
   },
   "outputs": [],
   "source": [
    "num_classes=3\n",
    "base_model = VGG19(weights='imagenet', include_top=False)\n",
    "x = GlobalAveragePooling2D()(x)\n",
    "x = Dense(1024, activation='relu')(x)\n",
    "predictions = Dense(num_classes, activation='softmax')(x)  # Replace 'num_classes' with the number of classes in your dataset\n",
    "\n",
    "model = Model(inputs=base_model.input, outputs=predictions)"
   ]
  },
  {
   "cell_type": "code",
   "execution_count": null,
   "metadata": {
    "execution": {
     "iopub.execute_input": "2023-09-28T10:32:00.710007Z",
     "iopub.status.busy": "2023-09-28T10:32:00.708821Z",
     "iopub.status.idle": "2023-09-28T10:32:00.733040Z",
     "shell.execute_reply": "2023-09-28T10:32:00.731899Z",
     "shell.execute_reply.started": "2023-09-28T10:32:00.709942Z"
    }
   },
   "outputs": [],
   "source": [
    "for layer in base_model.layers:\n",
    "    layer.trainable = False\n",
    "\n",
    "model.compile(optimizer=Adam(lr=0.0001), loss='categorical_crossentropy', metrics=['accuracy'])"
   ]
  },
  {
   "cell_type": "code",
   "execution_count": null,
   "metadata": {
    "execution": {
     "iopub.execute_input": "2023-09-28T10:32:29.233996Z",
     "iopub.status.busy": "2023-09-28T10:32:29.233630Z"
    }
   },
   "outputs": [],
   "source": [
    "epochs=100\n",
    "history = model.fit(train_generator, epochs=epochs, validation_data=validation_generator, callbacks=[early_stopping])"
   ]
  },
  {
   "cell_type": "code",
   "execution_count": null,
   "metadata": {},
   "outputs": [],
   "source": []
  }
 ],
 "metadata": {
  "kernelspec": {
   "display_name": "Python 3 (ipykernel)",
   "language": "python",
   "name": "python3"
  },
  "language_info": {
   "codemirror_mode": {
    "name": "ipython",
    "version": 3
   },
   "file_extension": ".py",
   "mimetype": "text/x-python",
   "name": "python",
   "nbconvert_exporter": "python",
   "pygments_lexer": "ipython3",
   "version": "3.9.7"
  }
 },
 "nbformat": 4,
 "nbformat_minor": 4
}
