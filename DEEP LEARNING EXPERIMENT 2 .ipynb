{
 "cells": [
  {
   "cell_type": "code",
   "execution_count": 1,
   "id": "14ed10f1",
   "metadata": {},
   "outputs": [],
   "source": [
    "import numpy as np\n",
    "from sklearn import datasets\n",
    "from sklearn.model_selection import train_test_split\n",
    "from sklearn.preprocessing import StandardScaler\n",
    "from sklearn.preprocessing import OneHotEncoder\n"
   ]
  },
  {
   "cell_type": "code",
   "execution_count": 2,
   "id": "3f8253e2",
   "metadata": {},
   "outputs": [],
   "source": [
    "X = np.array([[0, 0], [0, 1], [1, 0], [1, 1]])\n",
    "y = np.array([[0], [1], [1], [0]])"
   ]
  },
  {
   "cell_type": "code",
   "execution_count": 7,
   "id": "50ade7fe",
   "metadata": {},
   "outputs": [
    {
     "name": "stdout",
     "output_type": "stream",
     "text": [
      "[[-1. -1.]\n",
      " [-1.  1.]\n",
      " [ 1. -1.]\n",
      " [ 1.  1.]]\n"
     ]
    }
   ],
   "source": [
    "scaler = StandardScaler()\n",
    "X_scaled = scaler.fit_transform(X)\n",
    "print (X_scaled)"
   ]
  },
  {
   "cell_type": "code",
   "execution_count": 4,
   "id": "c04f255b",
   "metadata": {},
   "outputs": [],
   "source": [
    "X_train, X_test, y_train, y_test = train_test_split(X_scaled, y, test_size=0.2, random_state=42)\n"
   ]
  },
  {
   "cell_type": "code",
   "execution_count": 6,
   "id": "cf0c9fed",
   "metadata": {},
   "outputs": [
    {
     "name": "stdout",
     "output_type": "stream",
     "text": [
      "2 [[ 1.  1.]\n",
      " [-1. -1.]\n",
      " [ 1. -1.]]\n"
     ]
    }
   ],
   "source": [
    "input_size = X_train.shape[1]\n",
    "print(input_size,X_train)\n",
    "\n",
    "# 3 hidden layers with 4 neurorns each\n",
    "hidden_size1 = 4 \n",
    "hidden_size2 = 4\n",
    "hidden_size3 = 4\n",
    "\n",
    "output_size = y_train.shape[1]\n",
    "\n"
   ]
  },
  {
   "cell_type": "code",
   "execution_count": 6,
   "id": "06b2c42c",
   "metadata": {},
   "outputs": [],
   "source": [
    "np.random.seed(42)\n",
    "W1 = np.random.randn(input_size, hidden_size1)\n",
    "b1 = np.zeros((1, hidden_size1))\n",
    "\n",
    "W2 = np.random.randn(hidden_size1, hidden_size2)\n",
    "b2 = np.zeros((1, hidden_size2))\n",
    "\n",
    "W3 = np.random.randn(hidden_size2, hidden_size3)\n",
    "b3 = np.zeros((1, hidden_size3))\n",
    "\n",
    "W4 = np.random.randn(hidden_size3, output_size)\n",
    "b4 = np.zeros((1, output_size))\n"
   ]
  },
  {
   "cell_type": "code",
   "execution_count": 7,
   "id": "ab5300af",
   "metadata": {},
   "outputs": [
    {
     "name": "stdout",
     "output_type": "stream",
     "text": [
      "Epoch 0: loss = 0.2609\n",
      "Epoch 100: loss = 0.2418\n",
      "Epoch 200: loss = 0.2323\n",
      "Epoch 300: loss = 0.2276\n",
      "Epoch 400: loss = 0.2252\n",
      "Epoch 500: loss = 0.2240\n",
      "Epoch 600: loss = 0.2233\n",
      "Epoch 700: loss = 0.2229\n",
      "Epoch 800: loss = 0.2227\n",
      "Epoch 900: loss = 0.2225\n"
     ]
    }
   ],
   "source": [
    "\n",
    "# Define the sigmoid activation function\n",
    "def sigmoid(x):\n",
    "    return 1 / (1 + np.exp(-x))\n",
    "\n",
    "# Define the derivative of the sigmoid function\n",
    "def sigmoid_derivative(x):\n",
    "    return x * (1 - x)\n",
    "\n",
    "# Training parameters\n",
    "learning_rate = 0.01\n",
    "epochs = 1000\n",
    "\n",
    "# Training loop\n",
    "for epoch in range(epochs):\n",
    "    # Forward propagation\n",
    "   \n",
    "    #layer1\n",
    "    \n",
    "    Z1 = np.dot(X_train, W1) + b1\n",
    "    A1 = sigmoid(Z1)\n",
    "    \n",
    "    #layer2\n",
    "    Z2 = np.dot(A1, W2) + b2\n",
    "    A2 = sigmoid(Z2)\n",
    "    \n",
    "    #layer3\n",
    "    Z3 = np.dot(A2, W3) + b3\n",
    "    A3 = sigmoid(Z3)\n",
    "    \n",
    "    #output layer\n",
    "    Z4 = np.dot(A3, W4) + b4\n",
    "    A4 = sigmoid(Z4)\n",
    "\n",
    "    \n",
    "\n",
    "    # Compute the loss\n",
    "    loss = np.mean(np.square(A4 - y_train))\n",
    "\n",
    "    # Backpropagation\n",
    "    dA4 = A4 - y_train\n",
    "    dZ4 = dA4 * sigmoid_derivative(A4)\n",
    "\n",
    "    dA3 = np.dot(dZ4, W4.T)\n",
    "    dZ3 = dA3 * sigmoid_derivative(A3)\n",
    "\n",
    " 9   dA2 = np.dot(dZ3, W3.T)\n",
    "    dZ2 = dA2 * sigmoid_derivative(A2)\n",
    "    \n",
    "    dA1 = np.dot(dZ2, W2.T)\n",
    "    dZ1 = dA1 * sigmoid_derivative(A1)\n",
    "\n",
    "    # Update weights and biases\n",
    "    W4 -= learning_rate * np.dot(A3.T, dZ4)\n",
    "    b4 -= learning_rate * np.sum(dZ4, axis=0, keepdims=True)\n",
    "    W3 -= learning_rate * np.dot(A2.T, dZ3)\n",
    "    b3 -= learning_rate * np.sum(dZ3, axis=0, keepdims=True)\n",
    "    W2 -= learning_rate * np.dot(A1.T, dZ2)\n",
    "    b2 -= learning_rate * np.sum(dZ2, axis=0, keepdims=True)\n",
    "    W1 -= learning_rate * np.dot(X_train.T, dZ1)\n",
    "    b1 -= learning_rate * np.sum(dZ1, axis=0, keepdims=True)\n",
    "\n",
    "    if epoch % 100 == 0:\n",
    "        print(f\"Epoch {epoch}: loss = {loss:.4f}\")\n",
    "\n",
    "# Test the trained model\n",
    "Z1_test = np.dot(X_test, W1) + b1\n",
    "A1_test = sigmoid(Z1_test)\n",
    "Z2_test = np.dot(A1_test, W2) + b2\n",
    "A2_test = sigmoid(Z2_test)\n",
    "Z3_test = np.dot(A2_test, W3) + b3\n",
    "A3_test = sigmoid(Z3_test)\n",
    "Z4_test = np.dot(A3_test, W4) + b4\n",
    "A4_test = sigmoid(Z4_test)\n"
   ]
  },
  {
   "cell_type": "code",
   "execution_count": 10,
   "id": "cc129b9f",
   "metadata": {},
   "outputs": [
    {
     "name": "stdout",
     "output_type": "stream",
     "text": [
      "[0]\n",
      "Test accuracy: 1.0000\n"
     ]
    }
   ],
   "source": [
    "\n",
    "\n",
    "# Convert the predicted probabilities to class labels\n",
    "predicted_labels = np.argmax(A4_test, axis=1)\n",
    "\n",
    "# Calculate the accuracy\n",
    "accuracy = np.mean(predicted_labels == np.argmax(y_test, axis=1))\n",
    "print(f\"Test accuracy: {accuracy:.4f}\")\n"
   ]
  },
  {
   "cell_type": "code",
   "execution_count": null,
   "id": "b5cf339f",
   "metadata": {},
   "outputs": [],
   "source": []
  },
  {
   "cell_type": "code",
   "execution_count": null,
   "id": "9c4c4c3a",
   "metadata": {},
   "outputs": [],
   "source": []
  }
 ],
 "metadata": {
  "kernelspec": {
   "display_name": "Python 3 (ipykernel)",
   "language": "python",
   "name": "python3"
  },
  "language_info": {
   "codemirror_mode": {
    "name": "ipython",
    "version": 3
   },
   "file_extension": ".py",
   "mimetype": "text/x-python",
   "name": "python",
   "nbconvert_exporter": "python",
   "pygments_lexer": "ipython3",
   "version": "3.9.7"
  }
 },
 "nbformat": 4,
 "nbformat_minor": 5
}
